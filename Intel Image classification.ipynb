{
 "cells": [
  {
   "cell_type": "code",
   "execution_count": 5,
   "metadata": {
    "colab": {
     "base_uri": "https://localhost:8080/"
    },
    "executionInfo": {
     "elapsed": 1124,
     "status": "ok",
     "timestamp": 1604489212863,
     "user": {
      "displayName": "Sriram Puttagunta",
      "photoUrl": "https://lh3.googleusercontent.com/a-/AOh14GjUlsVsfotEQED_n7ys2n0iHnnsHQ0bZo6hLIKlb7U=s64",
      "userId": "11168731293567623353"
     },
     "user_tz": -330
    },
    "id": "X2LmyjmKAed4",
    "outputId": "c9b41db2-a1d4-462d-dbda-c61eb8b2dcfd"
   },
   "outputs": [
    {
     "name": "stdout",
     "output_type": "stream",
     "text": [
      "processor\t: 0\n",
      "vendor_id\t: GenuineIntel\n",
      "cpu family\t: 6\n",
      "model\t\t: 63\n",
      "model name\t: Intel(R) Xeon(R) CPU @ 2.30GHz\n",
      "stepping\t: 0\n",
      "microcode\t: 0x1\n",
      "cpu MHz\t\t: 2300.000\n",
      "cache size\t: 46080 KB\n",
      "physical id\t: 0\n",
      "siblings\t: 2\n",
      "core id\t\t: 0\n",
      "cpu cores\t: 1\n",
      "apicid\t\t: 0\n",
      "initial apicid\t: 0\n",
      "fpu\t\t: yes\n",
      "fpu_exception\t: yes\n",
      "cpuid level\t: 13\n",
      "wp\t\t: yes\n",
      "flags\t\t: fpu vme de pse tsc msr pae mce cx8 apic sep mtrr pge mca cmov pat pse36 clflush mmx fxsr sse sse2 ss ht syscall nx pdpe1gb rdtscp lm constant_tsc rep_good nopl xtopology nonstop_tsc cpuid tsc_known_freq pni pclmulqdq ssse3 fma cx16 pcid sse4_1 sse4_2 x2apic movbe popcnt aes xsave avx f16c rdrand hypervisor lahf_lm abm invpcid_single ssbd ibrs ibpb stibp fsgsbase tsc_adjust bmi1 avx2 smep bmi2 erms invpcid xsaveopt arat md_clear arch_capabilities\n",
      "bugs\t\t: cpu_meltdown spectre_v1 spectre_v2 spec_store_bypass l1tf mds swapgs\n",
      "bogomips\t: 4600.00\n",
      "clflush size\t: 64\n",
      "cache_alignment\t: 64\n",
      "address sizes\t: 46 bits physical, 48 bits virtual\n",
      "power management:\n",
      "\n",
      "processor\t: 1\n",
      "vendor_id\t: GenuineIntel\n",
      "cpu family\t: 6\n",
      "model\t\t: 63\n",
      "model name\t: Intel(R) Xeon(R) CPU @ 2.30GHz\n",
      "stepping\t: 0\n",
      "microcode\t: 0x1\n",
      "cpu MHz\t\t: 2300.000\n",
      "cache size\t: 46080 KB\n",
      "physical id\t: 0\n",
      "siblings\t: 2\n",
      "core id\t\t: 0\n",
      "cpu cores\t: 1\n",
      "apicid\t\t: 1\n",
      "initial apicid\t: 1\n",
      "fpu\t\t: yes\n",
      "fpu_exception\t: yes\n",
      "cpuid level\t: 13\n",
      "wp\t\t: yes\n",
      "flags\t\t: fpu vme de pse tsc msr pae mce cx8 apic sep mtrr pge mca cmov pat pse36 clflush mmx fxsr sse sse2 ss ht syscall nx pdpe1gb rdtscp lm constant_tsc rep_good nopl xtopology nonstop_tsc cpuid tsc_known_freq pni pclmulqdq ssse3 fma cx16 pcid sse4_1 sse4_2 x2apic movbe popcnt aes xsave avx f16c rdrand hypervisor lahf_lm abm invpcid_single ssbd ibrs ibpb stibp fsgsbase tsc_adjust bmi1 avx2 smep bmi2 erms invpcid xsaveopt arat md_clear arch_capabilities\n",
      "bugs\t\t: cpu_meltdown spectre_v1 spectre_v2 spec_store_bypass l1tf mds swapgs\n",
      "bogomips\t: 4600.00\n",
      "clflush size\t: 64\n",
      "cache_alignment\t: 64\n",
      "address sizes\t: 46 bits physical, 48 bits virtual\n",
      "power management:\n",
      "\n"
     ]
    }
   ],
   "source": [
    "!cat /proc/cpuinfo"
   ]
  },
  {
   "cell_type": "code",
   "execution_count": 7,
   "metadata": {
    "colab": {
     "base_uri": "https://localhost:8080/"
    },
    "executionInfo": {
     "elapsed": 6537,
     "status": "ok",
     "timestamp": 1604489333796,
     "user": {
      "displayName": "Sriram Puttagunta",
      "photoUrl": "https://lh3.googleusercontent.com/a-/AOh14GjUlsVsfotEQED_n7ys2n0iHnnsHQ0bZo6hLIKlb7U=s64",
      "userId": "11168731293567623353"
     },
     "user_tz": -330
    },
    "id": "t7ZDEt2NArG8",
    "outputId": "df3507d7-0049-4273-a1f6-a049d6602066"
   },
   "outputs": [
    {
     "data": {
      "text/plain": [
       "[name: \"/device:CPU:0\"\n",
       " device_type: \"CPU\"\n",
       " memory_limit: 268435456\n",
       " locality {\n",
       " }\n",
       " incarnation: 13199608963335999314, name: \"/device:XLA_CPU:0\"\n",
       " device_type: \"XLA_CPU\"\n",
       " memory_limit: 17179869184\n",
       " locality {\n",
       " }\n",
       " incarnation: 5474330824797575896\n",
       " physical_device_desc: \"device: XLA_CPU device\", name: \"/device:XLA_GPU:0\"\n",
       " device_type: \"XLA_GPU\"\n",
       " memory_limit: 17179869184\n",
       " locality {\n",
       " }\n",
       " incarnation: 2940617451008761336\n",
       " physical_device_desc: \"device: XLA_GPU device\", name: \"/device:GPU:0\"\n",
       " device_type: \"GPU\"\n",
       " memory_limit: 15695488000\n",
       " locality {\n",
       "   bus_id: 1\n",
       "   links {\n",
       "   }\n",
       " }\n",
       " incarnation: 12575436461912557319\n",
       " physical_device_desc: \"device: 0, name: Tesla P100-PCIE-16GB, pci bus id: 0000:00:04.0, compute capability: 6.0\"]"
      ]
     },
     "execution_count": 7,
     "metadata": {
      "tags": []
     },
     "output_type": "execute_result"
    }
   ],
   "source": [
    "from tensorflow.python.client import device_lib\n",
    "device_lib.list_local_devices()"
   ]
  },
  {
   "cell_type": "code",
   "execution_count": null,
   "metadata": {
    "colab": {
     "base_uri": "https://localhost:8080/"
    },
    "executionInfo": {
     "elapsed": 27318,
     "status": "ok",
     "timestamp": 1604401605881,
     "user": {
      "displayName": "Sriram Puttagunta",
      "photoUrl": "https://lh3.googleusercontent.com/a-/AOh14GjUlsVsfotEQED_n7ys2n0iHnnsHQ0bZo6hLIKlb7U=s64",
      "userId": "11168731293567623353"
     },
     "user_tz": -330
    },
    "id": "KuR5D1XjyS2k",
    "outputId": "a062d69b-2d4d-472a-c5ff-d81fe0341312"
   },
   "outputs": [
    {
     "name": "stdout",
     "output_type": "stream",
     "text": [
      "Mounted at /content/drive\n"
     ]
    }
   ],
   "source": [
    "# from google.colab import drive\n",
    "# drive.mount('/content/drive')"
   ]
  },
  {
   "cell_type": "code",
   "execution_count": 8,
   "metadata": {
    "colab": {
     "base_uri": "https://localhost:8080/"
    },
    "executionInfo": {
     "elapsed": 5039,
     "status": "ok",
     "timestamp": 1604489723790,
     "user": {
      "displayName": "Sriram Puttagunta",
      "photoUrl": "https://lh3.googleusercontent.com/a-/AOh14GjUlsVsfotEQED_n7ys2n0iHnnsHQ0bZo6hLIKlb7U=s64",
      "userId": "11168731293567623353"
     },
     "user_tz": -330
    },
    "id": "q3oqZ00yChAA",
    "outputId": "3a5d5cff-5948-4e21-ae26-9999bee99660"
   },
   "outputs": [
    {
     "name": "stdout",
     "output_type": "stream",
     "text": [
      "Requirement already satisfied: kaggle in /usr/local/lib/python3.6/dist-packages (1.5.9)\n",
      "Requirement already satisfied: six>=1.10 in /usr/local/lib/python3.6/dist-packages (from kaggle) (1.15.0)\n",
      "Requirement already satisfied: requests in /usr/local/lib/python3.6/dist-packages (from kaggle) (2.23.0)\n",
      "Requirement already satisfied: urllib3 in /usr/local/lib/python3.6/dist-packages (from kaggle) (1.24.3)\n",
      "Requirement already satisfied: python-slugify in /usr/local/lib/python3.6/dist-packages (from kaggle) (4.0.1)\n",
      "Requirement already satisfied: tqdm in /usr/local/lib/python3.6/dist-packages (from kaggle) (4.41.1)\n",
      "Requirement already satisfied: slugify in /usr/local/lib/python3.6/dist-packages (from kaggle) (0.0.1)\n",
      "Requirement already satisfied: certifi in /usr/local/lib/python3.6/dist-packages (from kaggle) (2020.6.20)\n",
      "Requirement already satisfied: python-dateutil in /usr/local/lib/python3.6/dist-packages (from kaggle) (2.8.1)\n",
      "Requirement already satisfied: idna<3,>=2.5 in /usr/local/lib/python3.6/dist-packages (from requests->kaggle) (2.10)\n",
      "Requirement already satisfied: chardet<4,>=3.0.2 in /usr/local/lib/python3.6/dist-packages (from requests->kaggle) (3.0.4)\n",
      "Requirement already satisfied: text-unidecode>=1.3 in /usr/local/lib/python3.6/dist-packages (from python-slugify->kaggle) (1.3)\n"
     ]
    }
   ],
   "source": [
    "!pip install kaggle"
   ]
  },
  {
   "cell_type": "code",
   "execution_count": 11,
   "metadata": {
    "executionInfo": {
     "elapsed": 1117,
     "status": "ok",
     "timestamp": 1604489951837,
     "user": {
      "displayName": "Sriram Puttagunta",
      "photoUrl": "https://lh3.googleusercontent.com/a-/AOh14GjUlsVsfotEQED_n7ys2n0iHnnsHQ0bZo6hLIKlb7U=s64",
      "userId": "11168731293567623353"
     },
     "user_tz": -330
    },
    "id": "96lWYp3sDLrd"
   },
   "outputs": [],
   "source": [
    "!mkdir -p ~/.kaggle\n",
    "!cp kaggle.json ~/.kaggle\n",
    "!chmod 600 ~/.kaggle/kaggle.json"
   ]
  },
  {
   "cell_type": "code",
   "execution_count": 12,
   "metadata": {
    "colab": {
     "base_uri": "https://localhost:8080/"
    },
    "executionInfo": {
     "elapsed": 1116,
     "status": "ok",
     "timestamp": 1604489992015,
     "user": {
      "displayName": "Sriram Puttagunta",
      "photoUrl": "https://lh3.googleusercontent.com/a-/AOh14GjUlsVsfotEQED_n7ys2n0iHnnsHQ0bZo6hLIKlb7U=s64",
      "userId": "11168731293567623353"
     },
     "user_tz": -330
    },
    "id": "svqrJsWHDiIt",
    "outputId": "fce5916f-63a3-4237-9106-01ebe9e31ce9"
   },
   "outputs": [
    {
     "name": "stdout",
     "output_type": "stream",
     "text": [
      "/content\n"
     ]
    }
   ],
   "source": [
    "!pwd"
   ]
  },
  {
   "cell_type": "code",
   "execution_count": 19,
   "metadata": {
    "colab": {
     "base_uri": "https://localhost:8080/",
     "height": 37
    },
    "executionInfo": {
     "elapsed": 1103,
     "status": "ok",
     "timestamp": 1604490684857,
     "user": {
      "displayName": "Sriram Puttagunta",
      "photoUrl": "https://lh3.googleusercontent.com/a-/AOh14GjUlsVsfotEQED_n7ys2n0iHnnsHQ0bZo6hLIKlb7U=s64",
      "userId": "11168731293567623353"
     },
     "user_tz": -330
    },
    "id": "uOfiN5HBx7WG",
    "outputId": "d43a480d-c88e-45e3-c11f-87892bda91e8"
   },
   "outputs": [
    {
     "data": {
      "application/vnd.google.colaboratory.intrinsic+json": {
       "type": "string"
      },
      "text/plain": [
       "'2.3.0'"
      ]
     },
     "execution_count": 19,
     "metadata": {
      "tags": []
     },
     "output_type": "execute_result"
    }
   ],
   "source": [
    "tf.__version__"
   ]
  },
  {
   "cell_type": "code",
   "execution_count": 13,
   "metadata": {
    "colab": {
     "base_uri": "https://localhost:8080/"
    },
    "executionInfo": {
     "elapsed": 10376,
     "status": "ok",
     "timestamp": 1604490328311,
     "user": {
      "displayName": "Sriram Puttagunta",
      "photoUrl": "https://lh3.googleusercontent.com/a-/AOh14GjUlsVsfotEQED_n7ys2n0iHnnsHQ0bZo6hLIKlb7U=s64",
      "userId": "11168731293567623353"
     },
     "user_tz": -330
    },
    "id": "zDdUgIoMCkBI",
    "outputId": "f573fa4f-9e94-4aeb-bf81-964bed64af44"
   },
   "outputs": [
    {
     "name": "stdout",
     "output_type": "stream",
     "text": [
      "Downloading intel-image-classification.zip to /content\n",
      " 97% 337M/346M [00:08<00:00, 33.4MB/s]\n",
      "100% 346M/346M [00:08<00:00, 43.8MB/s]\n"
     ]
    }
   ],
   "source": [
    "!kaggle datasets download -d puneet6060/intel-image-classification"
   ]
  },
  {
   "cell_type": "code",
   "execution_count": 17,
   "metadata": {
    "colab": {
     "base_uri": "https://localhost:8080/"
    },
    "executionInfo": {
     "elapsed": 8933,
     "status": "ok",
     "timestamp": 1604490608679,
     "user": {
      "displayName": "Sriram Puttagunta",
      "photoUrl": "https://lh3.googleusercontent.com/a-/AOh14GjUlsVsfotEQED_n7ys2n0iHnnsHQ0bZo6hLIKlb7U=s64",
      "userId": "11168731293567623353"
     },
     "user_tz": -330
    },
    "id": "JY1tBT6NE6qP",
    "outputId": "b51c29c0-7748-46c0-f339-70d5352206d6"
   },
   "outputs": [
    {
     "name": "stdout",
     "output_type": "stream",
     "text": [
      "Done\n"
     ]
    }
   ],
   "source": [
    "# !pip install zipfile\n",
    "from zipfile import ZipFile\n",
    "file_name = \"intel-image-classification.zip\"\n",
    "with ZipFile(file_name,\"r\") as zipp:\n",
    "  zipp.extractall()\n",
    "  print(\"Done\")"
   ]
  },
  {
   "cell_type": "code",
   "execution_count": 20,
   "metadata": {
    "executionInfo": {
     "elapsed": 1146,
     "status": "ok",
     "timestamp": 1604490713662,
     "user": {
      "displayName": "Sriram Puttagunta",
      "photoUrl": "https://lh3.googleusercontent.com/a-/AOh14GjUlsVsfotEQED_n7ys2n0iHnnsHQ0bZo6hLIKlb7U=s64",
      "userId": "11168731293567623353"
     },
     "user_tz": -330
    },
    "id": "3TLzKg6PGUhG"
   },
   "outputs": [],
   "source": [
    "import tensorflow as tf\n",
    "from tensorflow.keras.preprocessing.image import ImageDataGenerator"
   ]
  },
  {
   "cell_type": "code",
   "execution_count": 28,
   "metadata": {
    "executionInfo": {
     "elapsed": 1092,
     "status": "ok",
     "timestamp": 1604490848801,
     "user": {
      "displayName": "Sriram Puttagunta",
      "photoUrl": "https://lh3.googleusercontent.com/a-/AOh14GjUlsVsfotEQED_n7ys2n0iHnnsHQ0bZo6hLIKlb7U=s64",
      "userId": "11168731293567623353"
     },
     "user_tz": -330
    },
    "id": "ELmJWPMJx7WO"
   },
   "outputs": [],
   "source": [
    "train_gen = ImageDataGenerator(\n",
    "        rescale=1./255,\n",
    "        shear_range=0.2,\n",
    "        zoom_range=0.2,\n",
    "        horizontal_flip=True)"
   ]
  },
  {
   "cell_type": "code",
   "execution_count": 25,
   "metadata": {
    "executionInfo": {
     "elapsed": 1123,
     "status": "ok",
     "timestamp": 1604490771676,
     "user": {
      "displayName": "Sriram Puttagunta",
      "photoUrl": "https://lh3.googleusercontent.com/a-/AOh14GjUlsVsfotEQED_n7ys2n0iHnnsHQ0bZo6hLIKlb7U=s64",
      "userId": "11168731293567623353"
     },
     "user_tz": -330
    },
    "id": "Twsw8BfLx7WW"
   },
   "outputs": [],
   "source": [
    "import matplotlib.pyplot as plt\n",
    "%matplotlib inline\n",
    "img1 = \"/content/intel-image-classification/seg_train/seg_train/buildings/0.jpg\""
   ]
  },
  {
   "cell_type": "code",
   "execution_count": 26,
   "metadata": {
    "colab": {
     "base_uri": "https://localhost:8080/"
    },
    "executionInfo": {
     "elapsed": 959,
     "status": "ok",
     "timestamp": 1604490773528,
     "user": {
      "displayName": "Sriram Puttagunta",
      "photoUrl": "https://lh3.googleusercontent.com/a-/AOh14GjUlsVsfotEQED_n7ys2n0iHnnsHQ0bZo6hLIKlb7U=s64",
      "userId": "11168731293567623353"
     },
     "user_tz": -330
    },
    "id": "J3cYZd7Sx7Wc",
    "outputId": "c81d4abc-ab2c-47c9-9dd0-990c30662173"
   },
   "outputs": [
    {
     "data": {
      "text/plain": [
       "(150, 150, 3)"
      ]
     },
     "execution_count": 26,
     "metadata": {
      "tags": []
     },
     "output_type": "execute_result"
    }
   ],
   "source": [
    "plt.imread(img1).shape"
   ]
  },
  {
   "cell_type": "code",
   "execution_count": 29,
   "metadata": {
    "colab": {
     "base_uri": "https://localhost:8080/"
    },
    "executionInfo": {
     "elapsed": 1146,
     "status": "ok",
     "timestamp": 1604490852313,
     "user": {
      "displayName": "Sriram Puttagunta",
      "photoUrl": "https://lh3.googleusercontent.com/a-/AOh14GjUlsVsfotEQED_n7ys2n0iHnnsHQ0bZo6hLIKlb7U=s64",
      "userId": "11168731293567623353"
     },
     "user_tz": -330
    },
    "id": "snoRYRdIx7Wi",
    "outputId": "5ee13568-925a-4052-fd95-1ba2b6ef352d"
   },
   "outputs": [
    {
     "name": "stdout",
     "output_type": "stream",
     "text": [
      "Found 14034 images belonging to 6 classes.\n"
     ]
    }
   ],
   "source": [
    "training_set = train_gen.flow_from_directory(\"/content/intel-image-classification/seg_train/seg_train\",target_size=(150,150),batch_size=64)"
   ]
  },
  {
   "cell_type": "code",
   "execution_count": 30,
   "metadata": {
    "colab": {
     "base_uri": "https://localhost:8080/"
    },
    "executionInfo": {
     "elapsed": 1120,
     "status": "ok",
     "timestamp": 1604490876045,
     "user": {
      "displayName": "Sriram Puttagunta",
      "photoUrl": "https://lh3.googleusercontent.com/a-/AOh14GjUlsVsfotEQED_n7ys2n0iHnnsHQ0bZo6hLIKlb7U=s64",
      "userId": "11168731293567623353"
     },
     "user_tz": -330
    },
    "id": "MOC_StV3x7Wn",
    "outputId": "2655728a-8e10-472c-dcbe-d6dadbfcafd4"
   },
   "outputs": [
    {
     "name": "stdout",
     "output_type": "stream",
     "text": [
      "Found 3000 images belonging to 6 classes.\n"
     ]
    }
   ],
   "source": [
    "test_gen = ImageDataGenerator(rescale=1./255)\n",
    "testing_set = test_gen.flow_from_directory(\"/content/intel-image-classification/seg_test/seg_test\",target_size=(150,150),batch_size=64)"
   ]
  },
  {
   "cell_type": "code",
   "execution_count": 31,
   "metadata": {
    "colab": {
     "base_uri": "https://localhost:8080/"
    },
    "executionInfo": {
     "elapsed": 1350,
     "status": "ok",
     "timestamp": 1604490881608,
     "user": {
      "displayName": "Sriram Puttagunta",
      "photoUrl": "https://lh3.googleusercontent.com/a-/AOh14GjUlsVsfotEQED_n7ys2n0iHnnsHQ0bZo6hLIKlb7U=s64",
      "userId": "11168731293567623353"
     },
     "user_tz": -330
    },
    "id": "CoUIy1Wcx7Wx",
    "outputId": "4d411580-a7b0-49a4-b724-37178f102c78"
   },
   "outputs": [
    {
     "data": {
      "text/plain": [
       "tensorflow.python.keras.preprocessing.image.DirectoryIterator"
      ]
     },
     "execution_count": 31,
     "metadata": {
      "tags": []
     },
     "output_type": "execute_result"
    }
   ],
   "source": [
    "type(testing_set)"
   ]
  },
  {
   "cell_type": "code",
   "execution_count": 32,
   "metadata": {
    "executionInfo": {
     "elapsed": 1088,
     "status": "ok",
     "timestamp": 1604490884544,
     "user": {
      "displayName": "Sriram Puttagunta",
      "photoUrl": "https://lh3.googleusercontent.com/a-/AOh14GjUlsVsfotEQED_n7ys2n0iHnnsHQ0bZo6hLIKlb7U=s64",
      "userId": "11168731293567623353"
     },
     "user_tz": -330
    },
    "id": "7dpLftMDx7W2"
   },
   "outputs": [],
   "source": [
    "from tensorflow.keras.models import Sequential\n",
    "from tensorflow.keras.layers import Dense,Conv2D,MaxPool2D,Flatten,Dropout\n",
    "from tensorflow.keras.callbacks import EarlyStopping"
   ]
  },
  {
   "cell_type": "code",
   "execution_count": 57,
   "metadata": {
    "executionInfo": {
     "elapsed": 1467,
     "status": "ok",
     "timestamp": 1604493194101,
     "user": {
      "displayName": "Sriram Puttagunta",
      "photoUrl": "https://lh3.googleusercontent.com/a-/AOh14GjUlsVsfotEQED_n7ys2n0iHnnsHQ0bZo6hLIKlb7U=s64",
      "userId": "11168731293567623353"
     },
     "user_tz": -330
    },
    "id": "icjAAZVXx7W6"
   },
   "outputs": [],
   "source": [
    "model = Sequential()\n",
    "model.add(Conv2D(filters = 128,kernel_size=3,activation=\"relu\",input_shape=[150,150,3]))\n",
    "model.add(MaxPool2D(pool_size=2,strides=2))\n",
    "Dropout(0.2)\n",
    "model.add(Conv2D(filters = 64,kernel_size=3,activation=\"relu\"))\n",
    "model.add(MaxPool2D(pool_size=2,strides=2))\n",
    "Dropout(0.2)\n",
    "model.add(Conv2D(filters = 32,kernel_size=3,activation=\"relu\"))\n",
    "model.add(MaxPool2D(pool_size=2,strides=2))\n",
    "Dropout(0.2)\n",
    "model.add(Flatten())\n",
    "model.add(Dense(units=128,activation=\"relu\"))\n",
    "model.add(Dense(units=128,activation=\"relu\"))\n",
    "model.add(Dense(units=6,activation=\"softmax\"))"
   ]
  },
  {
   "cell_type": "code",
   "execution_count": 58,
   "metadata": {
    "executionInfo": {
     "elapsed": 759,
     "status": "ok",
     "timestamp": 1604493195637,
     "user": {
      "displayName": "Sriram Puttagunta",
      "photoUrl": "https://lh3.googleusercontent.com/a-/AOh14GjUlsVsfotEQED_n7ys2n0iHnnsHQ0bZo6hLIKlb7U=s64",
      "userId": "11168731293567623353"
     },
     "user_tz": -330
    },
    "id": "AXcG03cYx7W-"
   },
   "outputs": [],
   "source": [
    "model.compile(optimizer=\"adam\",loss=\"categorical_crossentropy\",metrics=[\"accuracy\"])"
   ]
  },
  {
   "cell_type": "code",
   "execution_count": 59,
   "metadata": {
    "colab": {
     "base_uri": "https://localhost:8080/"
    },
    "executionInfo": {
     "elapsed": 1203,
     "status": "ok",
     "timestamp": 1604493198237,
     "user": {
      "displayName": "Sriram Puttagunta",
      "photoUrl": "https://lh3.googleusercontent.com/a-/AOh14GjUlsVsfotEQED_n7ys2n0iHnnsHQ0bZo6hLIKlb7U=s64",
      "userId": "11168731293567623353"
     },
     "user_tz": -330
    },
    "id": "9f6zHhYgx7XC",
    "outputId": "3f7a3dff-a74a-4103-dc83-9f961aa35e28"
   },
   "outputs": [
    {
     "name": "stdout",
     "output_type": "stream",
     "text": [
      "Model: \"sequential_1\"\n",
      "_________________________________________________________________\n",
      "Layer (type)                 Output Shape              Param #   \n",
      "=================================================================\n",
      "conv2d_2 (Conv2D)            (None, 148, 148, 128)     3584      \n",
      "_________________________________________________________________\n",
      "max_pooling2d_2 (MaxPooling2 (None, 74, 74, 128)       0         \n",
      "_________________________________________________________________\n",
      "conv2d_3 (Conv2D)            (None, 72, 72, 64)        73792     \n",
      "_________________________________________________________________\n",
      "max_pooling2d_3 (MaxPooling2 (None, 36, 36, 64)        0         \n",
      "_________________________________________________________________\n",
      "conv2d_4 (Conv2D)            (None, 34, 34, 32)        18464     \n",
      "_________________________________________________________________\n",
      "max_pooling2d_4 (MaxPooling2 (None, 17, 17, 32)        0         \n",
      "_________________________________________________________________\n",
      "flatten_1 (Flatten)          (None, 9248)              0         \n",
      "_________________________________________________________________\n",
      "dense_2 (Dense)              (None, 128)               1183872   \n",
      "_________________________________________________________________\n",
      "dense_3 (Dense)              (None, 128)               16512     \n",
      "_________________________________________________________________\n",
      "dense_4 (Dense)              (None, 6)                 774       \n",
      "=================================================================\n",
      "Total params: 1,296,998\n",
      "Trainable params: 1,296,998\n",
      "Non-trainable params: 0\n",
      "_________________________________________________________________\n"
     ]
    }
   ],
   "source": [
    "model.summary()"
   ]
  },
  {
   "cell_type": "code",
   "execution_count": 60,
   "metadata": {
    "executionInfo": {
     "elapsed": 1093,
     "status": "ok",
     "timestamp": 1604493203102,
     "user": {
      "displayName": "Sriram Puttagunta",
      "photoUrl": "https://lh3.googleusercontent.com/a-/AOh14GjUlsVsfotEQED_n7ys2n0iHnnsHQ0bZo6hLIKlb7U=s64",
      "userId": "11168731293567623353"
     },
     "user_tz": -330
    },
    "id": "qXthc1vIx7XI"
   },
   "outputs": [],
   "source": [
    "early_stop = EarlyStopping(monitor=\"val_loss\",patience=2)"
   ]
  },
  {
   "cell_type": "code",
   "execution_count": 61,
   "metadata": {
    "colab": {
     "base_uri": "https://localhost:8080/"
    },
    "executionInfo": {
     "elapsed": 3019476,
     "status": "ok",
     "timestamp": 1604496233717,
     "user": {
      "displayName": "Sriram Puttagunta",
      "photoUrl": "https://lh3.googleusercontent.com/a-/AOh14GjUlsVsfotEQED_n7ys2n0iHnnsHQ0bZo6hLIKlb7U=s64",
      "userId": "11168731293567623353"
     },
     "user_tz": -330
    },
    "id": "42WlSHw6x7XM",
    "outputId": "ff46a520-79be-40c8-92f7-edad9eb8923b"
   },
   "outputs": [
    {
     "name": "stdout",
     "output_type": "stream",
     "text": [
      "Epoch 1/35\n",
      "220/220 [==============================] - 87s 395ms/step - loss: 1.0746 - accuracy: 0.5732 - val_loss: 0.8868 - val_accuracy: 0.6770\n",
      "Epoch 2/35\n",
      "220/220 [==============================] - 86s 389ms/step - loss: 0.7752 - accuracy: 0.7128 - val_loss: 0.6705 - val_accuracy: 0.7523\n",
      "Epoch 3/35\n",
      "220/220 [==============================] - 84s 383ms/step - loss: 0.6481 - accuracy: 0.7569 - val_loss: 0.5610 - val_accuracy: 0.8010\n",
      "Epoch 4/35\n",
      "220/220 [==============================] - 83s 379ms/step - loss: 0.5813 - accuracy: 0.7902 - val_loss: 0.5975 - val_accuracy: 0.7873\n",
      "Epoch 5/35\n",
      "220/220 [==============================] - 83s 377ms/step - loss: 0.5114 - accuracy: 0.8172 - val_loss: 0.5498 - val_accuracy: 0.8113\n",
      "Epoch 6/35\n",
      "220/220 [==============================] - 83s 376ms/step - loss: 0.4670 - accuracy: 0.8349 - val_loss: 0.5110 - val_accuracy: 0.8270\n",
      "Epoch 7/35\n",
      "220/220 [==============================] - 81s 370ms/step - loss: 0.4292 - accuracy: 0.8458 - val_loss: 0.4912 - val_accuracy: 0.8260\n",
      "Epoch 8/35\n",
      "220/220 [==============================] - 84s 381ms/step - loss: 0.4005 - accuracy: 0.8544 - val_loss: 0.4730 - val_accuracy: 0.8387\n",
      "Epoch 9/35\n",
      "220/220 [==============================] - 86s 389ms/step - loss: 0.3853 - accuracy: 0.8630 - val_loss: 0.4952 - val_accuracy: 0.8357\n",
      "Epoch 10/35\n",
      "220/220 [==============================] - 86s 392ms/step - loss: 0.3683 - accuracy: 0.8685 - val_loss: 0.4683 - val_accuracy: 0.8367\n",
      "Epoch 11/35\n",
      "220/220 [==============================] - 86s 391ms/step - loss: 0.3445 - accuracy: 0.8744 - val_loss: 0.5109 - val_accuracy: 0.8373\n",
      "Epoch 12/35\n",
      "220/220 [==============================] - 87s 397ms/step - loss: 0.3202 - accuracy: 0.8846 - val_loss: 0.4682 - val_accuracy: 0.8427\n",
      "Epoch 13/35\n",
      "220/220 [==============================] - 87s 395ms/step - loss: 0.3102 - accuracy: 0.8884 - val_loss: 0.5021 - val_accuracy: 0.8367\n",
      "Epoch 14/35\n",
      "220/220 [==============================] - 86s 393ms/step - loss: 0.3030 - accuracy: 0.8914 - val_loss: 0.4938 - val_accuracy: 0.8353\n",
      "Epoch 15/35\n",
      "220/220 [==============================] - 86s 391ms/step - loss: 0.2839 - accuracy: 0.8986 - val_loss: 0.5284 - val_accuracy: 0.8240\n",
      "Epoch 16/35\n",
      "220/220 [==============================] - 86s 393ms/step - loss: 0.2705 - accuracy: 0.9056 - val_loss: 0.5068 - val_accuracy: 0.8473\n",
      "Epoch 17/35\n",
      "220/220 [==============================] - 87s 395ms/step - loss: 0.2642 - accuracy: 0.9043 - val_loss: 0.4602 - val_accuracy: 0.8520\n",
      "Epoch 18/35\n",
      "220/220 [==============================] - 86s 392ms/step - loss: 0.2420 - accuracy: 0.9119 - val_loss: 0.5746 - val_accuracy: 0.8273\n",
      "Epoch 19/35\n",
      "220/220 [==============================] - 86s 393ms/step - loss: 0.2296 - accuracy: 0.9191 - val_loss: 0.5217 - val_accuracy: 0.8477\n",
      "Epoch 20/35\n",
      "220/220 [==============================] - 87s 397ms/step - loss: 0.2183 - accuracy: 0.9208 - val_loss: 0.5483 - val_accuracy: 0.8423\n",
      "Epoch 21/35\n",
      "220/220 [==============================] - 87s 398ms/step - loss: 0.2183 - accuracy: 0.9191 - val_loss: 0.5450 - val_accuracy: 0.8453\n",
      "Epoch 22/35\n",
      "220/220 [==============================] - 87s 396ms/step - loss: 0.2049 - accuracy: 0.9275 - val_loss: 0.5729 - val_accuracy: 0.8243\n",
      "Epoch 23/35\n",
      "220/220 [==============================] - 87s 397ms/step - loss: 0.1908 - accuracy: 0.9310 - val_loss: 0.5879 - val_accuracy: 0.8397\n",
      "Epoch 24/35\n",
      "220/220 [==============================] - 88s 399ms/step - loss: 0.1998 - accuracy: 0.9289 - val_loss: 0.5846 - val_accuracy: 0.8480\n",
      "Epoch 25/35\n",
      "220/220 [==============================] - 88s 399ms/step - loss: 0.1888 - accuracy: 0.9337 - val_loss: 0.5668 - val_accuracy: 0.8383\n",
      "Epoch 26/35\n",
      "220/220 [==============================] - 88s 399ms/step - loss: 0.1820 - accuracy: 0.9360 - val_loss: 0.6282 - val_accuracy: 0.8360\n",
      "Epoch 27/35\n",
      "220/220 [==============================] - 87s 395ms/step - loss: 0.1821 - accuracy: 0.9354 - val_loss: 0.5652 - val_accuracy: 0.8513\n",
      "Epoch 28/35\n",
      "220/220 [==============================] - 87s 394ms/step - loss: 0.1661 - accuracy: 0.9398 - val_loss: 0.6322 - val_accuracy: 0.8293\n",
      "Epoch 29/35\n",
      "220/220 [==============================] - 86s 393ms/step - loss: 0.1528 - accuracy: 0.9441 - val_loss: 0.6458 - val_accuracy: 0.8320\n",
      "Epoch 30/35\n",
      "220/220 [==============================] - 85s 385ms/step - loss: 0.1481 - accuracy: 0.9476 - val_loss: 0.5832 - val_accuracy: 0.8520\n",
      "Epoch 31/35\n",
      "220/220 [==============================] - 84s 382ms/step - loss: 0.1483 - accuracy: 0.9486 - val_loss: 0.6142 - val_accuracy: 0.8513\n",
      "Epoch 32/35\n",
      "220/220 [==============================] - 87s 397ms/step - loss: 0.1377 - accuracy: 0.9511 - val_loss: 0.6155 - val_accuracy: 0.8443\n",
      "Epoch 33/35\n",
      "220/220 [==============================] - 85s 387ms/step - loss: 0.1433 - accuracy: 0.9496 - val_loss: 0.6962 - val_accuracy: 0.8443\n",
      "Epoch 34/35\n",
      "220/220 [==============================] - 84s 381ms/step - loss: 0.1375 - accuracy: 0.9497 - val_loss: 0.6339 - val_accuracy: 0.8513\n",
      "Epoch 35/35\n",
      "220/220 [==============================] - 84s 383ms/step - loss: 0.1280 - accuracy: 0.9531 - val_loss: 0.6239 - val_accuracy: 0.8460\n"
     ]
    },
    {
     "data": {
      "text/plain": [
       "<tensorflow.python.keras.callbacks.History at 0x7f3057a69518>"
      ]
     },
     "execution_count": 61,
     "metadata": {
      "tags": []
     },
     "output_type": "execute_result"
    }
   ],
   "source": [
    "model.fit(x = training_set,validation_data=testing_set,epochs=35,verbose=1)"
   ]
  },
  {
   "cell_type": "code",
   "execution_count": 62,
   "metadata": {
    "executionInfo": {
     "elapsed": 1723,
     "status": "ok",
     "timestamp": 1604497692240,
     "user": {
      "displayName": "Sriram Puttagunta",
      "photoUrl": "https://lh3.googleusercontent.com/a-/AOh14GjUlsVsfotEQED_n7ys2n0iHnnsHQ0bZo6hLIKlb7U=s64",
      "userId": "11168731293567623353"
     },
     "user_tz": -330
    },
    "id": "Y-ogb2jWx7XR"
   },
   "outputs": [],
   "source": [
    "import numpy as np\n",
    "from keras.preprocessing import image\n",
    "test_image = image.load_img('/content/intel-image-classification/seg_pred/seg_pred/25.jpg', target_size = (150,150))\n",
    "test_image = image.img_to_array(test_image)\n",
    "test_image = np.expand_dims(test_image, axis = 0)\n",
    "result = model.predict(test_image)"
   ]
  },
  {
   "cell_type": "code",
   "execution_count": 63,
   "metadata": {
    "executionInfo": {
     "elapsed": 1089,
     "status": "ok",
     "timestamp": 1604497692242,
     "user": {
      "displayName": "Sriram Puttagunta",
      "photoUrl": "https://lh3.googleusercontent.com/a-/AOh14GjUlsVsfotEQED_n7ys2n0iHnnsHQ0bZo6hLIKlb7U=s64",
      "userId": "11168731293567623353"
     },
     "user_tz": -330
    },
    "id": "olX0KewUMH-h"
   },
   "outputs": [],
   "source": [
    "labels = [k for k in training_set.class_indices.keys()]"
   ]
  },
  {
   "cell_type": "code",
   "execution_count": 64,
   "metadata": {
    "colab": {
     "base_uri": "https://localhost:8080/"
    },
    "executionInfo": {
     "elapsed": 1339,
     "status": "ok",
     "timestamp": 1604497692998,
     "user": {
      "displayName": "Sriram Puttagunta",
      "photoUrl": "https://lh3.googleusercontent.com/a-/AOh14GjUlsVsfotEQED_n7ys2n0iHnnsHQ0bZo6hLIKlb7U=s64",
      "userId": "11168731293567623353"
     },
     "user_tz": -330
    },
    "id": "pHqSOFjaKY9o",
    "outputId": "190acbe4-e4c0-4477-acb3-c066ee564867"
   },
   "outputs": [
    {
     "name": "stdout",
     "output_type": "stream",
     "text": [
      "predicted label is sea\n"
     ]
    }
   ],
   "source": [
    "print(\"predicted label is {}\".format(labels[result.argmax(axis=1)[0]]))"
   ]
  },
  {
   "cell_type": "code",
   "execution_count": 46,
   "metadata": {
    "executionInfo": {
     "elapsed": 1105,
     "status": "ok",
     "timestamp": 1604492161031,
     "user": {
      "displayName": "Sriram Puttagunta",
      "photoUrl": "https://lh3.googleusercontent.com/a-/AOh14GjUlsVsfotEQED_n7ys2n0iHnnsHQ0bZo6hLIKlb7U=s64",
      "userId": "11168731293567623353"
     },
     "user_tz": -330
    },
    "id": "CgoMMFqRKa2j"
   },
   "outputs": [],
   "source": []
  },
  {
   "cell_type": "code",
   "execution_count": null,
   "metadata": {
    "id": "SYgAPV3HKqkX"
   },
   "outputs": [],
   "source": []
  }
 ],
 "metadata": {
  "accelerator": "GPU",
  "colab": {
   "name": "Intel Image classification.ipynb",
   "provenance": []
  },
  "kernelspec": {
   "display_name": "Python 3",
   "language": "python",
   "name": "python3"
  },
  "language_info": {
   "codemirror_mode": {
    "name": "ipython",
    "version": 3
   },
   "file_extension": ".py",
   "mimetype": "text/x-python",
   "name": "python",
   "nbconvert_exporter": "python",
   "pygments_lexer": "ipython3",
   "version": "3.7.6"
  }
 },
 "nbformat": 4,
 "nbformat_minor": 1
}
